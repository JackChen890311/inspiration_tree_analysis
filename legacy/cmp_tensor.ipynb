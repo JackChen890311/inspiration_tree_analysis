{
 "cells": [
  {
   "cell_type": "code",
   "execution_count": 3,
   "metadata": {},
   "outputs": [
    {
     "name": "stdout",
     "output_type": "stream",
     "text": [
      "Comparing:\n",
      "Tensors are not equal\n",
      "Tensors under key <*> are not equal\n",
      "Tensors are not equal\n"
     ]
    }
   ],
   "source": [
    "import torch\n",
    "\n",
    "path1 = \"/home/jack/Code/Research/instree_analysis/experiments/v2_sub/20250330_instree_origin/outputs/physics_mug/v0/v0_seed0/embeds/learned_embeds-steps-100.bin\"\n",
    "path2 = \"/home/jack/Code/Research/instree_origin/outputs/physics_mug/v0/v0_seed0/embeds/learned_embeds-steps-100.bin\"\n",
    "path3 = \"/home/jack/Code/Research/inspiration_tree/outputs/physics_mug/v0/v0_seed0/learned_embeds-steps-100.bin\"\n",
    "path4 = \"/home/jack/Code/Research/inspiration_tree/outputs/physics_mug/v0_1/v0_seed0/learned_embeds-steps-100.bin\"\n",
    "path5 = \"/home/jack/Code/Research/instree_analysis/experiments/v2_sub_clip/20250429_0426_seed0/outputs/elephant/v0/v0_seed0/learned_embeds.bin\"\n",
    "path6 = \"/home/jack/Code/Research/instree_analysis/experiments/v2_sub_clip/20250430_attend_excite/outputs/elephant/v0/v0_seed0/learned_embeds.bin\"\n",
    "path7 = \"/home/jack/Code/Research/instree_main/outputs/canada_bear/v0/v0_seed0/embeds/learned_embeds-steps-150.bin\"\n",
    "path8 = \"/home/jack/Code/Research/instree_analysis/experiments/v2_sub_clip/20250520_high_ema_low_rand/outputs/canada_bear/v0/v0_seed0/embeds/learned_embeds-steps-150.bin\"\n",
    "\n",
    "def load_tensor(path):\n",
    "    tensor = torch.load(path)\n",
    "    return tensor\n",
    "\n",
    "def compare_tensors(tensor1, tensor2):\n",
    "    if tensor1.shape != tensor2.shape:\n",
    "        print(f\"Shapes do not match: {tensor1.shape} vs {tensor2.shape}\")\n",
    "        return False\n",
    "\n",
    "    if not torch.allclose(tensor1, tensor2, atol=1e-6):\n",
    "        print(\"Tensors are not equal\")\n",
    "        return False\n",
    "\n",
    "    return True\n",
    "\n",
    "def compare_all(tensor1, tensor2):\n",
    "    if tensor1.keys() != tensor2.keys():\n",
    "        print(\"Keys do not match\")\n",
    "        return False\n",
    "    \n",
    "    for key in tensor1.keys():\n",
    "        if not compare_tensors(tensor1[key], tensor2[key]):\n",
    "            print(f\"Tensors under key {key} are not equal\")\n",
    "            return False\n",
    "    return True\n",
    "\n",
    "# tensor1 = load_tensor(path1)\n",
    "# tensor2 = load_tensor(path2)\n",
    "# tensor3 = load_tensor(path3)\n",
    "# tensor4 = load_tensor(path4)\n",
    "# tensor5 = load_tensor(path5)\n",
    "# tensor6 = load_tensor(path6)\n",
    "tensor7 = load_tensor(path7)\n",
    "tensor8 = load_tensor(path8)\n",
    "\n",
    "\n",
    "print(\"Comparing:\")\n",
    "if compare_all(tensor7, tensor8):\n",
    "    print(\"Tensors are equal\")\n",
    "else:\n",
    "    print(\"Tensors are not equal\")"
   ]
  },
  {
   "cell_type": "code",
   "execution_count": null,
   "metadata": {},
   "outputs": [],
   "source": []
  }
 ],
 "metadata": {
  "kernelspec": {
   "display_name": "instree",
   "language": "python",
   "name": "python3"
  },
  "language_info": {
   "codemirror_mode": {
    "name": "ipython",
    "version": 3
   },
   "file_extension": ".py",
   "mimetype": "text/x-python",
   "name": "python",
   "nbconvert_exporter": "python",
   "pygments_lexer": "ipython3",
   "version": "3.10.13"
  }
 },
 "nbformat": 4,
 "nbformat_minor": 2
}
